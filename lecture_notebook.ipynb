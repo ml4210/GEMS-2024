{
 "cells": [
  {
   "cell_type": "code",
   "execution_count": null,
   "metadata": {},
   "outputs": [],
   "source": [
    "import pandas as pd"
   ]
  },
  {
   "cell_type": "code",
   "execution_count": null,
   "id": "892a6078",
   "metadata": {},
   "outputs": [],
   "source": [
    "# Load in the csv as a pandas dataframe\n",
    "df = pd.read_csv(\"spotify-2023.csv\")"
   ]
  },
  {
   "cell_type": "code",
   "execution_count": null,
   "id": "425df3e8",
   "metadata": {},
   "outputs": [],
   "source": [
    "# Preview - top 10 rows of the dataframe\n",
    "df.head()"
   ]
  }
 ],
 "metadata": {
  "language_info": {
   "name": "python"
  }
 },
 "nbformat": 4,
 "nbformat_minor": 5
}
