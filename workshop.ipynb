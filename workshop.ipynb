{
 "cells": [
  {
   "cell_type": "markdown",
   "metadata": {},
   "source": [
    "# <span style=\"color:purple\"> Welcome to our beginner Python workshop! </span>"
   ]
  },
  {
   "cell_type": "markdown",
   "metadata": {},
   "source": [
    "## <span style=\"color:orange\"> 1. Variables </span>"
   ]
  },
  {
   "cell_type": "markdown",
   "metadata": {
    "vscode": {
     "languageId": "plaintext"
    }
   },
   "source": [
    "### Let's start with concepts! Can you tell me what a variable is?\n",
    "\n",
    "##### <i>Here's your hint!</i>\n",
    "<img src=\"images/milo.jpeg\" alt=\"variable\" width=\"250\"/>\n",
    "<br>\n",
    "<center>\n",
    "\"Hello World! I am Milo, and I am a 7 year old Husky.\"\n",
    "</center>\n",
    "<img src=\"images/variable.png\" alt=\"variable\" width=\"500\"/>\n",
    "<br>\n",
    "<details>\n",
    "<summary><b><span style=\"color:pink\">Click here for the answer!</span></b></summary>\n",
    "<br>\n",
    "A variable is a named place to store a piece of data.  We can refer to that data by using the variable name in our code.\n",
    "</details>\n",
    "<br>"
   ]
  },
  {
   "cell_type": "code",
   "execution_count": null,
   "metadata": {
    "vscode": {
     "languageId": "plaintext"
    }
   },
   "outputs": [],
   "source": [
    "# Our first example creates a variable named message with the string 'Hello World!'\n",
    "message = \"Hello World!\"\n",
    "print(message)\n"
   ]
  },
  {
   "cell_type": "markdown",
   "metadata": {},
   "source": [
    "#### Try setting two variables, one for your first name and one for your last name. "
   ]
  },
  {
   "cell_type": "code",
   "execution_count": null,
   "metadata": {},
   "outputs": [],
   "source": []
  },
  {
   "cell_type": "markdown",
   "metadata": {},
   "source": [
    "#### We also have the ability to combine multiple string variables. Let's try it!"
   ]
  },
  {
   "cell_type": "code",
   "execution_count": null,
   "metadata": {
    "vscode": {
     "languageId": "plaintext"
    }
   },
   "outputs": [],
   "source": [
    "message1 = \"Hello\"\n",
    "message2 = \"World\"\n",
    "message = message1 + message2\n",
    "print(message)\n",
    "\n",
    "# This also works with strings that are not set as variables.\n",
    "string_message = \"Hello\" + \"World\"\n",
    "print(string_message)\n",
    "\n",
    "# We can also combine strings with variables that contain strings.\n",
    "mix_message = \"Hello\" + message2\n",
    "print(mix_message)\n"
   ]
  },
  {
   "cell_type": "markdown",
   "metadata": {},
   "source": [
    "#### Now that you know how to combine variables, create a variable for your full name and print it out.\n",
    "\n",
    "*Did you notice anything weird with the spacing? See if you can update the variable to include a space between your first and last name.*"
   ]
  },
  {
   "cell_type": "code",
   "execution_count": null,
   "metadata": {
    "vscode": {
     "languageId": "plaintext"
    }
   },
   "outputs": [],
   "source": []
  },
  {
   "cell_type": "markdown",
   "metadata": {},
   "source": [
    "### <span style=\"color:green\"> 1.1 F-Strings <span>"
   ]
  },
  {
   "cell_type": "markdown",
   "metadata": {},
   "source": [
    "#### Next, we will learn how to use variables in a sentence."
   ]
  },
  {
   "cell_type": "code",
   "execution_count": null,
   "metadata": {
    "vscode": {
     "languageId": "plaintext"
    }
   },
   "outputs": [],
   "source": [
    "# Python has a feature called an f-string, which allows us to easily include variables in a string.\n",
    "color = \"red\"\n",
    "sentence = f\"Her favorite color is {color}.\"\n",
    "print(sentence)\n",
    "\n",
    "# Variables passed into f-strings do not need to be strings themselves.\n",
    "# If you pass in a number, it will be converted into a string representation of that number.\n",
    "number = 2\n",
    "sentence = f\"Her favorite number is {number}.\"\n",
    "print(sentence)\n"
   ]
  },
  {
   "cell_type": "markdown",
   "metadata": {},
   "source": [
    "#### Practice with f-strings by printing a sentence that states your name and age.  \n",
    "*Utilize variables you have already created and set any new variables that will help you to customize your code.* "
   ]
  },
  {
   "cell_type": "code",
   "execution_count": null,
   "metadata": {
    "vscode": {
     "languageId": "plaintext"
    }
   },
   "outputs": [],
   "source": []
  },
  {
   "cell_type": "markdown",
   "metadata": {},
   "source": [
    "### <span style=\"color:green\"> 1.2 Mad Libs! </span>"
   ]
  },
  {
   "cell_type": "markdown",
   "metadata": {},
   "source": [
    "#### Now that you know how to use variables and f-strings, we can create our own mad lib!"
   ]
  },
  {
   "cell_type": "code",
   "execution_count": null,
   "metadata": {
    "vscode": {
     "languageId": "plaintext"
    }
   },
   "outputs": [],
   "source": [
    "blank_1 = \"princess\"\n",
    "blank_2 = \"castle\"\n",
    "mad_lib = f\"Once upon a time there was a {blank_1} who lived in a {blank_2}.\"\n",
    "print(mad_lib)\n"
   ]
  },
  {
   "cell_type": "markdown",
   "metadata": {},
   "source": [
    "#### Try creating your own mad lib with at least three sentences and three fill in the blanks.  When you are done, let your neighbor fill in the blanks and see the results!"
   ]
  },
  {
   "cell_type": "code",
   "execution_count": null,
   "metadata": {
    "vscode": {
     "languageId": "plaintext"
    }
   },
   "outputs": [],
   "source": []
  },
  {
   "cell_type": "markdown",
   "metadata": {},
   "source": [
    "## <span style=\"color:orange\"> 2. If/Else Conditions </span>"
   ]
  },
  {
   "cell_type": "markdown",
   "metadata": {},
   "source": [
    "### Time for a new concept challenge! Can you give me an if/else condition example?\n",
    "\n",
    "##### <i>Here's your hint!</i>\n",
    "<img src=\"images/ifelse.png\" alt=\"ifelse\" width=\"500\"/>\n",
    "<br>\n",
    "<details> \n",
    "<summary><b><span style=\"color:pink\">Click here for the definition!</span></b></summary>\n",
    "<br>\n",
    "If/else statements allow us to run different code depending on a condition.\n",
    "</details>\n",
    "<br>"
   ]
  },
  {
   "cell_type": "code",
   "execution_count": null,
   "metadata": {},
   "outputs": [],
   "source": [
    "your_first_name = \"\"\n",
    "my_name = \"Michelle\"\n",
    "if your_first_name == my_name:\n",
    "    print(\"We have the same name!\")\n",
    "else:\n",
    "    print(\"We have different names.\")\n"
   ]
  },
  {
   "cell_type": "markdown",
   "metadata": {},
   "source": [
    "### <span style=\"color:green\"> 2.1 Driving Test </span>\n",
    "#### A person must be 17 years old in New Jersey to take the driving test. Use if/else statements to help determine if your age meets the age requirement."
   ]
  },
  {
   "cell_type": "code",
   "execution_count": null,
   "metadata": {},
   "outputs": [],
   "source": []
  },
  {
   "cell_type": "markdown",
   "metadata": {},
   "source": [
    "### <span style=\"color:green\"> 2.2 Coin Toss! </span>"
   ]
  },
  {
   "cell_type": "markdown",
   "metadata": {},
   "source": [
    "#### We can also use Python to play other fun games! For example, we can use it to create a coin toss. "
   ]
  },
  {
   "cell_type": "code",
   "execution_count": null,
   "metadata": {},
   "outputs": [],
   "source": [
    "# Here we are using the random module to generate a random integer between 0 and 1.\n",
    "import random\n",
    "print(random.randint(0,1))\n"
   ]
  },
  {
   "cell_type": "markdown",
   "metadata": {},
   "source": [
    "#### Using this random generator, try to write code to simulate a coin toss.  In this case, you can have Heads = 0 and Tails = 1.  Allow someone to make a guess and print out if they won!\n"
   ]
  },
  {
   "cell_type": "code",
   "execution_count": null,
   "metadata": {},
   "outputs": [],
   "source": []
  },
  {
   "cell_type": "markdown",
   "metadata": {},
   "source": [
    "## <span style=\"color:orange\"> 3. Functions </span>"
   ]
  },
  {
   "cell_type": "markdown",
   "metadata": {},
   "source": [
    "### Let's get into our last concept! Can you write down the steps necessary to deliver a pizza?\n",
    "\n",
    "##### <i>Here's your function!</i>\n",
    "<img src=\"images/function.png\" alt=\"ifelse\" width=\"800\"/>\n",
    "<br>\n",
    "<details open> \n",
    "<summary><b><span style=\"color:pink\">This is the definition!</span></b></summary>\n",
    "<br>\n",
    "A function is a block of code that can be pre-written and stored.  It will only run when called. Functions are useful when there is a task that will be executed repeatedly.\n",
    "</details>\n",
    "<br>"
   ]
  },
  {
   "cell_type": "markdown",
   "metadata": {},
   "source": [
    "### <span style=\"color:green\"> 3.1 Turn math equations into Python functions! </span>\n",
    "#### Functions in programming can work in a similar fashion to a regular math formula. For example, f(x) takes in an input 'x' and returns an output value."
   ]
  },
  {
   "cell_type": "code",
   "execution_count": null,
   "metadata": {},
   "outputs": [],
   "source": [
    "# Compute area of a circle\n",
    "def compute_area_of_circle(radius):\n",
    "    area = 3.14*radius**2\n",
    "    return area\n",
    "\n",
    "# Here we are importing another function, sqrt(), from the math module that will let us compute the squre root of a number.\n",
    "from math import sqrt\n",
    "\n",
    "# Compute the radius of the circle given the area\n",
    "def compute_radius_of_circle(area):\n",
    "    radius = sqrt(area / 3.14)\n",
    "    return radius\n"
   ]
  },
  {
   "cell_type": "markdown",
   "metadata": {},
   "source": [
    "#### Notice that when we run the previous code block, nothing happens.  This is because we have only defined the function, and have not called the function."
   ]
  },
  {
   "cell_type": "code",
   "execution_count": null,
   "metadata": {},
   "outputs": [],
   "source": [
    "# Call \"compute_area_of_circle\" function for radius = 2\n",
    "area = compute_area_of_circle(2)\n",
    "print(area)\n"
   ]
  },
  {
   "cell_type": "markdown",
   "metadata": {},
   "source": [
    "#### Exercise!\n",
    "#### Assumption: A pizza is a perfect circle. Write a function to compute the area of the pizza given its diameter."
   ]
  },
  {
   "cell_type": "code",
   "execution_count": null,
   "metadata": {},
   "outputs": [],
   "source": []
  },
  {
   "cell_type": "markdown",
   "metadata": {},
   "source": [
    "#### Question: What is the size of a 16-inch pizza?  Use the function you wrote in the previous step."
   ]
  },
  {
   "cell_type": "code",
   "execution_count": null,
   "metadata": {},
   "outputs": [],
   "source": []
  },
  {
   "cell_type": "markdown",
   "metadata": {},
   "source": [
    "#### Follow-up: Can you write a function that converts a degree from Celsius to Fahrenheit?\n",
    "Formula for Celsius to Fahrenheit: °C = (°F - 32) × 5/9"
   ]
  },
  {
   "cell_type": "code",
   "execution_count": null,
   "metadata": {},
   "outputs": [],
   "source": []
  }
 ],
 "metadata": {
  "kernelspec": {
   "display_name": "Python 3 (sandboxed)",
   "language": "python",
   "name": "python3"
  },
  "language_info": {
   "codemirror_mode": {
    "name": "ipython",
    "version": 3
   },
   "file_extension": ".py",
   "mimetype": "text/x-python",
   "name": "python",
   "nbconvert_exporter": "python",
   "pygments_lexer": "ipython3",
   "version": "3.9.12"
  }
 },
 "nbformat": 4,
 "nbformat_minor": 4
}
